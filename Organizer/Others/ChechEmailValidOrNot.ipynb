{
 "cells": [
  {
   "cell_type": "markdown",
   "id": "c9161d1e-2e1c-418e-9601-0eee09b4d531",
   "metadata": {},
   "source": [
    "### write a program that take a list of emails and print weather is valid or invalid"
   ]
  },
  {
   "cell_type": "code",
   "execution_count": 6,
   "id": "e791ddfc-0b39-406d-aaf5-43e342e31d86",
   "metadata": {},
   "outputs": [
    {
     "name": "stdout",
     "output_type": "stream",
     "text": [
      "thrjr@gmail.com is valid.\n",
      "thrj222r@gmail.com is valid.\n",
      "thrj r@gmail.com is invalid.\n",
      "thrjr@gmail.com is valid.\n",
      "thr\n",
      "jr@gmail.com is invalid.\n",
      "thrjr@gmail.com is valid.\n"
     ]
    }
   ],
   "source": [
    "import re\n",
    "\n",
    "def is_valid_email(email):\n",
    "    pattern = r'^[a-zA-Z0-9._%+-]+@[a-zA-Z0-9.-]+\\.[a-zA-Z]{2,}'\n",
    "    if re.match(pattern, email):\n",
    "        return True\n",
    "    else:\n",
    "        return False\n",
    "\n",
    "\n",
    "emails=[\"thrjr@gmail.com\", \"thrj222r@gmail.com\", \"thrj r@gmail.com\", \"thrjr@gmail.com\", \"thr\\njr@gmail.com\", \"thrjr@gmail.com\"]\n",
    "\n",
    "for email in emails:\n",
    "    if is_valid_email(email):\n",
    "            print(f\"{email} is valid.\")\n",
    "    else:\n",
    "            print(f\"{email} is invalid.\")"
   ]
  },
  {
   "cell_type": "code",
   "execution_count": null,
   "id": "69b04c3f-7dd7-4c82-8533-aff3f8beeab6",
   "metadata": {},
   "outputs": [],
   "source": []
  }
 ],
 "metadata": {
  "kernelspec": {
   "display_name": "Python 3 (ipykernel)",
   "language": "python",
   "name": "python3"
  },
  "language_info": {
   "codemirror_mode": {
    "name": "ipython",
    "version": 3
   },
   "file_extension": ".py",
   "mimetype": "text/x-python",
   "name": "python",
   "nbconvert_exporter": "python",
   "pygments_lexer": "ipython3",
   "version": "3.12.4"
  }
 },
 "nbformat": 4,
 "nbformat_minor": 5
}
